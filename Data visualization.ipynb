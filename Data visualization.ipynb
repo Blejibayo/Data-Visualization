{
 "cells": [
  {
   "cell_type": "code",
   "execution_count": 1,
   "id": "be73363c-1067-4f80-8506-a86c30d0a24a",
   "metadata": {},
   "outputs": [],
   "source": [
    "import pandas as pd\n",
    "import numpy as np\n",
    "import matplotlib.pyplot as plt\n",
    "import seaborn as sns\n",
    "path=r\"C:\\Users\\AYOADE\\Desktop\\data.xlsx\"\n",
    "data=pd.read_excel(path)"
   ]
  },
  {
   "cell_type": "code",
   "execution_count": 2,
   "id": "eb587b10-d1d5-4943-91c2-177552d14c3c",
   "metadata": {},
   "outputs": [
    {
     "name": "stdout",
     "output_type": "stream",
     "text": [
      "    Gender  Age Date of birth    Education            Dept MaritalStatus  \\\n",
      "0   Female    1    2004-08-08      College      Operations             M   \n",
      "1     Male   21    2002-02-17      College      Management             M   \n",
      "2   Female   19    2003-01-07          PhD  Administration             S   \n",
      "3     Male   20    2002-02-23      Masters           Sales             M   \n",
      "4     Male   26    1996-03-08      Masters     Engineering             S   \n",
      "5   Female   20    2003-01-01          PhD      Operations             S   \n",
      "6   Female   20    2003-03-23      College           Sales             S   \n",
      "7     Male   18    2004-02-15          PhD     Engineering             S   \n",
      "8   Female   33    1990-07-01  High School     Engineering             M   \n",
      "9   Female   35    1988-05-30      College     Engineering             S   \n",
      "10    Male   24    1999-07-30          PhD     Engineering             S   \n",
      "11  Female   18    2004-11-02      College      Management             S   \n",
      "12  Female   19    2003-10-01      College           Sales             S   \n",
      "13  Female   30    1993-03-03      Masters  Administration             M   \n",
      "14  Female   35    1988-01-01          PhD      Operations             S   \n",
      "15  Female   27    1995-03-23          PhD      Management             S   \n",
      "16  Female   23    2000-12-26          PhD  Administration             S   \n",
      "17  Female   24    1999-09-08      College  Administration             S   \n",
      "18    Male   21    2002-05-05  High School     Engineering             M   \n",
      "\n",
      "    BasePay (1000's)  Executive  Bonus Percentage Active        Performance  \\\n",
      "0             42.363          0             0.100   True       Satisfactory   \n",
      "1            108.476          1             0.020   True               Poor   \n",
      "2             90.208          1             0.030   True       Satisfactory   \n",
      "3            108.080          0             0.070  False        Outstanding   \n",
      "4             99.464          1             0.030   True       Satisfactory   \n",
      "5             70.890          0             0.020   True     Unsatisfactory   \n",
      "6             67.585          0             0.120   True  Very satisfactory   \n",
      "7             97.523          1             0.110   True       Satisfactory   \n",
      "8            112.976          1             0.070   True        Outstanding   \n",
      "9            106.524          1             0.030  False     Unsatisfactory   \n",
      "10           102.261          1             0.010   True  Very satisfactory   \n",
      "11            62.759          0             0.110   True        Outstanding   \n",
      "12            84.007          0             0.040   True  Very satisfactory   \n",
      "13            86.220          1             0.050   True       Satisfactory   \n",
      "14            95.584          0             0.050   True               Poor   \n",
      "15            73.357          0             0.070   True        Outstanding   \n",
      "16            88.422          1             0.030   True        Outstanding   \n",
      "17            99.545          1             0.015   True  Very satisfactory   \n",
      "18            90.386          1             0.040  FASLE       Satisfactory   \n",
      "\n",
      "    Unnamed: 11  Basepay in1000  BasePay+BonusPercentage  \n",
      "0           NaN           42363                46599.300  \n",
      "1           NaN          108476               110645.520  \n",
      "2           NaN           90208                92914.240  \n",
      "3           NaN          108080               115645.600  \n",
      "4           NaN           99464               102447.920  \n",
      "5           NaN           70890                72307.800  \n",
      "6           NaN           67585                75695.200  \n",
      "7           NaN           97523               108250.530  \n",
      "8           NaN          112976               120884.320  \n",
      "9           NaN          106524               109719.720  \n",
      "10          NaN          102261               103283.610  \n",
      "11          NaN           62759                69662.490  \n",
      "12          NaN           84007                87367.280  \n",
      "13          NaN           86220                90531.000  \n",
      "14          NaN           95584               100363.200  \n",
      "15          NaN           73357                78491.990  \n",
      "16          NaN           88422                91074.660  \n",
      "17          NaN           99545               101038.175  \n",
      "18          NaN           90386                94001.440  \n"
     ]
    }
   ],
   "source": [
    "print(data)"
   ]
  },
  {
   "cell_type": "code",
   "execution_count": 3,
   "id": "13064fce-374d-4319-996d-46a196bd3088",
   "metadata": {},
   "outputs": [
    {
     "data": {
      "text/html": [
       "<div>\n",
       "<style scoped>\n",
       "    .dataframe tbody tr th:only-of-type {\n",
       "        vertical-align: middle;\n",
       "    }\n",
       "\n",
       "    .dataframe tbody tr th {\n",
       "        vertical-align: top;\n",
       "    }\n",
       "\n",
       "    .dataframe thead th {\n",
       "        text-align: right;\n",
       "    }\n",
       "</style>\n",
       "<table border=\"1\" class=\"dataframe\">\n",
       "  <thead>\n",
       "    <tr style=\"text-align: right;\">\n",
       "      <th></th>\n",
       "      <th>Gender</th>\n",
       "      <th>Age</th>\n",
       "      <th>Date of birth</th>\n",
       "      <th>Education</th>\n",
       "      <th>Dept</th>\n",
       "      <th>MaritalStatus</th>\n",
       "      <th>BasePay (1000's)</th>\n",
       "      <th>Executive</th>\n",
       "      <th>Bonus Percentage</th>\n",
       "      <th>Active</th>\n",
       "      <th>Performance</th>\n",
       "      <th>Unnamed: 11</th>\n",
       "      <th>Basepay in1000</th>\n",
       "      <th>BasePay+BonusPercentage</th>\n",
       "    </tr>\n",
       "  </thead>\n",
       "  <tbody>\n",
       "    <tr>\n",
       "      <th>0</th>\n",
       "      <td>Female</td>\n",
       "      <td>1</td>\n",
       "      <td>2004-08-08</td>\n",
       "      <td>College</td>\n",
       "      <td>Operations</td>\n",
       "      <td>M</td>\n",
       "      <td>42.363</td>\n",
       "      <td>0</td>\n",
       "      <td>0.10</td>\n",
       "      <td>True</td>\n",
       "      <td>Satisfactory</td>\n",
       "      <td>NaN</td>\n",
       "      <td>42363</td>\n",
       "      <td>46599.30</td>\n",
       "    </tr>\n",
       "    <tr>\n",
       "      <th>1</th>\n",
       "      <td>Male</td>\n",
       "      <td>21</td>\n",
       "      <td>2002-02-17</td>\n",
       "      <td>College</td>\n",
       "      <td>Management</td>\n",
       "      <td>M</td>\n",
       "      <td>108.476</td>\n",
       "      <td>1</td>\n",
       "      <td>0.02</td>\n",
       "      <td>True</td>\n",
       "      <td>Poor</td>\n",
       "      <td>NaN</td>\n",
       "      <td>108476</td>\n",
       "      <td>110645.52</td>\n",
       "    </tr>\n",
       "    <tr>\n",
       "      <th>2</th>\n",
       "      <td>Female</td>\n",
       "      <td>19</td>\n",
       "      <td>2003-01-07</td>\n",
       "      <td>PhD</td>\n",
       "      <td>Administration</td>\n",
       "      <td>S</td>\n",
       "      <td>90.208</td>\n",
       "      <td>1</td>\n",
       "      <td>0.03</td>\n",
       "      <td>True</td>\n",
       "      <td>Satisfactory</td>\n",
       "      <td>NaN</td>\n",
       "      <td>90208</td>\n",
       "      <td>92914.24</td>\n",
       "    </tr>\n",
       "    <tr>\n",
       "      <th>3</th>\n",
       "      <td>Male</td>\n",
       "      <td>20</td>\n",
       "      <td>2002-02-23</td>\n",
       "      <td>Masters</td>\n",
       "      <td>Sales</td>\n",
       "      <td>M</td>\n",
       "      <td>108.080</td>\n",
       "      <td>0</td>\n",
       "      <td>0.07</td>\n",
       "      <td>False</td>\n",
       "      <td>Outstanding</td>\n",
       "      <td>NaN</td>\n",
       "      <td>108080</td>\n",
       "      <td>115645.60</td>\n",
       "    </tr>\n",
       "  </tbody>\n",
       "</table>\n",
       "</div>"
      ],
      "text/plain": [
       "   Gender  Age Date of birth Education            Dept MaritalStatus  \\\n",
       "0  Female    1    2004-08-08   College      Operations             M   \n",
       "1    Male   21    2002-02-17   College      Management             M   \n",
       "2  Female   19    2003-01-07       PhD  Administration             S   \n",
       "3    Male   20    2002-02-23   Masters           Sales             M   \n",
       "\n",
       "   BasePay (1000's)  Executive  Bonus Percentage Active   Performance  \\\n",
       "0            42.363          0              0.10   True  Satisfactory   \n",
       "1           108.476          1              0.02   True          Poor   \n",
       "2            90.208          1              0.03   True  Satisfactory   \n",
       "3           108.080          0              0.07  False   Outstanding   \n",
       "\n",
       "   Unnamed: 11  Basepay in1000  BasePay+BonusPercentage  \n",
       "0          NaN           42363                 46599.30  \n",
       "1          NaN          108476                110645.52  \n",
       "2          NaN           90208                 92914.24  \n",
       "3          NaN          108080                115645.60  "
      ]
     },
     "execution_count": 3,
     "metadata": {},
     "output_type": "execute_result"
    }
   ],
   "source": [
    "data.head(4)"
   ]
  },
  {
   "cell_type": "code",
   "execution_count": 4,
   "id": "bb9ea47a-e87c-48be-91c3-49f3d1a20f38",
   "metadata": {},
   "outputs": [
    {
     "data": {
      "text/plain": [
       "(19, 14)"
      ]
     },
     "execution_count": 4,
     "metadata": {},
     "output_type": "execute_result"
    }
   ],
   "source": [
    "data.shape"
   ]
  },
  {
   "cell_type": "code",
   "execution_count": 5,
   "id": "35a61578-5b47-49f7-a770-fb52dbe2956f",
   "metadata": {},
   "outputs": [],
   "source": [
    "X=['Unnamed: 11']"
   ]
  },
  {
   "cell_type": "code",
   "execution_count": 6,
   "id": "a21da4b1-f399-4f4a-913e-d705b83a8602",
   "metadata": {},
   "outputs": [],
   "source": [
    "data.drop(X,axis=1,inplace=True)"
   ]
  },
  {
   "cell_type": "code",
   "execution_count": 7,
   "id": "6c5e65d3-ad61-4ca4-b4a0-74b9ad4ca418",
   "metadata": {},
   "outputs": [
    {
     "data": {
      "text/html": [
       "<div>\n",
       "<style scoped>\n",
       "    .dataframe tbody tr th:only-of-type {\n",
       "        vertical-align: middle;\n",
       "    }\n",
       "\n",
       "    .dataframe tbody tr th {\n",
       "        vertical-align: top;\n",
       "    }\n",
       "\n",
       "    .dataframe thead th {\n",
       "        text-align: right;\n",
       "    }\n",
       "</style>\n",
       "<table border=\"1\" class=\"dataframe\">\n",
       "  <thead>\n",
       "    <tr style=\"text-align: right;\">\n",
       "      <th></th>\n",
       "      <th>Gender</th>\n",
       "      <th>Age</th>\n",
       "      <th>Date of birth</th>\n",
       "      <th>Education</th>\n",
       "      <th>Dept</th>\n",
       "      <th>MaritalStatus</th>\n",
       "      <th>BasePay (1000's)</th>\n",
       "      <th>Executive</th>\n",
       "      <th>Bonus Percentage</th>\n",
       "      <th>Active</th>\n",
       "      <th>Performance</th>\n",
       "      <th>Basepay in1000</th>\n",
       "      <th>BasePay+BonusPercentage</th>\n",
       "    </tr>\n",
       "  </thead>\n",
       "  <tbody>\n",
       "    <tr>\n",
       "      <th>0</th>\n",
       "      <td>Female</td>\n",
       "      <td>1</td>\n",
       "      <td>2004-08-08</td>\n",
       "      <td>College</td>\n",
       "      <td>Operations</td>\n",
       "      <td>M</td>\n",
       "      <td>42.363</td>\n",
       "      <td>0</td>\n",
       "      <td>0.10</td>\n",
       "      <td>True</td>\n",
       "      <td>Satisfactory</td>\n",
       "      <td>42363</td>\n",
       "      <td>46599.30</td>\n",
       "    </tr>\n",
       "    <tr>\n",
       "      <th>1</th>\n",
       "      <td>Male</td>\n",
       "      <td>21</td>\n",
       "      <td>2002-02-17</td>\n",
       "      <td>College</td>\n",
       "      <td>Management</td>\n",
       "      <td>M</td>\n",
       "      <td>108.476</td>\n",
       "      <td>1</td>\n",
       "      <td>0.02</td>\n",
       "      <td>True</td>\n",
       "      <td>Poor</td>\n",
       "      <td>108476</td>\n",
       "      <td>110645.52</td>\n",
       "    </tr>\n",
       "    <tr>\n",
       "      <th>2</th>\n",
       "      <td>Female</td>\n",
       "      <td>19</td>\n",
       "      <td>2003-01-07</td>\n",
       "      <td>PhD</td>\n",
       "      <td>Administration</td>\n",
       "      <td>S</td>\n",
       "      <td>90.208</td>\n",
       "      <td>1</td>\n",
       "      <td>0.03</td>\n",
       "      <td>True</td>\n",
       "      <td>Satisfactory</td>\n",
       "      <td>90208</td>\n",
       "      <td>92914.24</td>\n",
       "    </tr>\n",
       "    <tr>\n",
       "      <th>3</th>\n",
       "      <td>Male</td>\n",
       "      <td>20</td>\n",
       "      <td>2002-02-23</td>\n",
       "      <td>Masters</td>\n",
       "      <td>Sales</td>\n",
       "      <td>M</td>\n",
       "      <td>108.080</td>\n",
       "      <td>0</td>\n",
       "      <td>0.07</td>\n",
       "      <td>False</td>\n",
       "      <td>Outstanding</td>\n",
       "      <td>108080</td>\n",
       "      <td>115645.60</td>\n",
       "    </tr>\n",
       "  </tbody>\n",
       "</table>\n",
       "</div>"
      ],
      "text/plain": [
       "   Gender  Age Date of birth Education            Dept MaritalStatus  \\\n",
       "0  Female    1    2004-08-08   College      Operations             M   \n",
       "1    Male   21    2002-02-17   College      Management             M   \n",
       "2  Female   19    2003-01-07       PhD  Administration             S   \n",
       "3    Male   20    2002-02-23   Masters           Sales             M   \n",
       "\n",
       "   BasePay (1000's)  Executive  Bonus Percentage Active   Performance  \\\n",
       "0            42.363          0              0.10   True  Satisfactory   \n",
       "1           108.476          1              0.02   True          Poor   \n",
       "2            90.208          1              0.03   True  Satisfactory   \n",
       "3           108.080          0              0.07  False   Outstanding   \n",
       "\n",
       "   Basepay in1000  BasePay+BonusPercentage  \n",
       "0           42363                 46599.30  \n",
       "1          108476                110645.52  \n",
       "2           90208                 92914.24  \n",
       "3          108080                115645.60  "
      ]
     },
     "execution_count": 7,
     "metadata": {},
     "output_type": "execute_result"
    }
   ],
   "source": [
    "data.head(4)"
   ]
  },
  {
   "cell_type": "code",
   "execution_count": 9,
   "id": "dbeb346c-be33-4116-bfa6-2acb8fa2421e",
   "metadata": {},
   "outputs": [],
   "source": [
    "data.rename(columns={\"Date of birth\":\"Birthdate\"},inplace=True)\n",
    "data.rename(columns={\"Basepay in1000\":\"Basepayin1000\"},inplace=True)"
   ]
  },
  {
   "cell_type": "code",
   "execution_count": 10,
   "id": "874dcadd-f9ff-419c-b85f-25df57cc9a8f",
   "metadata": {},
   "outputs": [
    {
     "data": {
      "text/html": [
       "<div>\n",
       "<style scoped>\n",
       "    .dataframe tbody tr th:only-of-type {\n",
       "        vertical-align: middle;\n",
       "    }\n",
       "\n",
       "    .dataframe tbody tr th {\n",
       "        vertical-align: top;\n",
       "    }\n",
       "\n",
       "    .dataframe thead th {\n",
       "        text-align: right;\n",
       "    }\n",
       "</style>\n",
       "<table border=\"1\" class=\"dataframe\">\n",
       "  <thead>\n",
       "    <tr style=\"text-align: right;\">\n",
       "      <th></th>\n",
       "      <th>Gender</th>\n",
       "      <th>Age</th>\n",
       "      <th>Birthdate</th>\n",
       "      <th>Education</th>\n",
       "      <th>Dept</th>\n",
       "      <th>MaritalStatus</th>\n",
       "      <th>BasePay (1000's)</th>\n",
       "      <th>Executive</th>\n",
       "      <th>Bonus Percentage</th>\n",
       "      <th>Active</th>\n",
       "      <th>Performance</th>\n",
       "      <th>Basepayin1000</th>\n",
       "      <th>BasePay+BonusPercentage</th>\n",
       "    </tr>\n",
       "  </thead>\n",
       "  <tbody>\n",
       "    <tr>\n",
       "      <th>0</th>\n",
       "      <td>Female</td>\n",
       "      <td>1</td>\n",
       "      <td>2004-08-08</td>\n",
       "      <td>College</td>\n",
       "      <td>Operations</td>\n",
       "      <td>M</td>\n",
       "      <td>42.363</td>\n",
       "      <td>0</td>\n",
       "      <td>0.10</td>\n",
       "      <td>True</td>\n",
       "      <td>Satisfactory</td>\n",
       "      <td>42363</td>\n",
       "      <td>46599.30</td>\n",
       "    </tr>\n",
       "    <tr>\n",
       "      <th>1</th>\n",
       "      <td>Male</td>\n",
       "      <td>21</td>\n",
       "      <td>2002-02-17</td>\n",
       "      <td>College</td>\n",
       "      <td>Management</td>\n",
       "      <td>M</td>\n",
       "      <td>108.476</td>\n",
       "      <td>1</td>\n",
       "      <td>0.02</td>\n",
       "      <td>True</td>\n",
       "      <td>Poor</td>\n",
       "      <td>108476</td>\n",
       "      <td>110645.52</td>\n",
       "    </tr>\n",
       "  </tbody>\n",
       "</table>\n",
       "</div>"
      ],
      "text/plain": [
       "   Gender  Age  Birthdate Education        Dept MaritalStatus  \\\n",
       "0  Female    1 2004-08-08   College  Operations             M   \n",
       "1    Male   21 2002-02-17   College  Management             M   \n",
       "\n",
       "   BasePay (1000's)  Executive  Bonus Percentage Active   Performance  \\\n",
       "0            42.363          0              0.10   True  Satisfactory   \n",
       "1           108.476          1              0.02   True          Poor   \n",
       "\n",
       "   Basepayin1000  BasePay+BonusPercentage  \n",
       "0          42363                 46599.30  \n",
       "1         108476                110645.52  "
      ]
     },
     "execution_count": 10,
     "metadata": {},
     "output_type": "execute_result"
    }
   ],
   "source": [
    "data.head(2)"
   ]
  },
  {
   "cell_type": "code",
   "execution_count": 11,
   "id": "94811ce1-bcd7-46f0-a7a6-1c1a73d0abcd",
   "metadata": {},
   "outputs": [
    {
     "data": {
      "text/plain": [
       "0    2004-08-08\n",
       "1    2002-02-17\n",
       "2    2003-01-07\n",
       "3    2002-02-23\n",
       "4    1996-03-08\n",
       "5    2003-01-01\n",
       "6    2003-03-23\n",
       "7    2004-02-15\n",
       "8    1990-07-01\n",
       "9    1988-05-30\n",
       "10   1999-07-30\n",
       "11   2004-11-02\n",
       "12   2003-10-01\n",
       "13   1993-03-03\n",
       "14   1988-01-01\n",
       "15   1995-03-23\n",
       "16   2000-12-26\n",
       "17   1999-09-08\n",
       "18   2002-05-05\n",
       "Name: Birthdate, dtype: datetime64[ns]"
      ]
     },
     "execution_count": 11,
     "metadata": {},
     "output_type": "execute_result"
    }
   ],
   "source": [
    "data.Birthdate"
   ]
  },
  {
   "cell_type": "code",
   "execution_count": 12,
   "id": "e5032a3d-c9b4-4301-bb75-3a6424092d58",
   "metadata": {},
   "outputs": [
    {
     "data": {
      "text/plain": [
       "0      8\n",
       "1      2\n",
       "2      1\n",
       "3      2\n",
       "4      3\n",
       "5      1\n",
       "6      3\n",
       "7      2\n",
       "8      7\n",
       "9      5\n",
       "10     7\n",
       "11    11\n",
       "12    10\n",
       "13     3\n",
       "14     1\n",
       "15     3\n",
       "16    12\n",
       "17     9\n",
       "18     5\n",
       "Name: Birthdate, dtype: int32"
      ]
     },
     "execution_count": 12,
     "metadata": {},
     "output_type": "execute_result"
    }
   ],
   "source": [
    "data.Birthdate.dt.month"
   ]
  },
  {
   "cell_type": "code",
   "execution_count": 13,
   "id": "ea4fc9f2-f939-4cfa-9ae2-70e4052183a6",
   "metadata": {},
   "outputs": [
    {
     "data": {
      "text/plain": [
       "0      8\n",
       "1     17\n",
       "2      7\n",
       "3     23\n",
       "4      8\n",
       "5      1\n",
       "6     23\n",
       "7     15\n",
       "8      1\n",
       "9     30\n",
       "10    30\n",
       "11     2\n",
       "12     1\n",
       "13     3\n",
       "14     1\n",
       "15    23\n",
       "16    26\n",
       "17     8\n",
       "18     5\n",
       "Name: Birthdate, dtype: int32"
      ]
     },
     "execution_count": 13,
     "metadata": {},
     "output_type": "execute_result"
    }
   ],
   "source": [
    "data.Birthdate.dt.day"
   ]
  },
  {
   "cell_type": "code",
   "execution_count": 14,
   "id": "5d146453-8b57-4e5e-a4c9-34515492e7eb",
   "metadata": {},
   "outputs": [],
   "source": [
    "data[\"Birthmonth\"]=data.Birthdate.dt.month"
   ]
  },
  {
   "cell_type": "code",
   "execution_count": 15,
   "id": "90cd88bc-3bb1-4bef-be4d-d7c18eb55d85",
   "metadata": {},
   "outputs": [
    {
     "data": {
      "text/html": [
       "<div>\n",
       "<style scoped>\n",
       "    .dataframe tbody tr th:only-of-type {\n",
       "        vertical-align: middle;\n",
       "    }\n",
       "\n",
       "    .dataframe tbody tr th {\n",
       "        vertical-align: top;\n",
       "    }\n",
       "\n",
       "    .dataframe thead th {\n",
       "        text-align: right;\n",
       "    }\n",
       "</style>\n",
       "<table border=\"1\" class=\"dataframe\">\n",
       "  <thead>\n",
       "    <tr style=\"text-align: right;\">\n",
       "      <th></th>\n",
       "      <th>Gender</th>\n",
       "      <th>Age</th>\n",
       "      <th>Birthdate</th>\n",
       "      <th>Education</th>\n",
       "      <th>Dept</th>\n",
       "      <th>MaritalStatus</th>\n",
       "      <th>BasePay (1000's)</th>\n",
       "      <th>Executive</th>\n",
       "      <th>Bonus Percentage</th>\n",
       "      <th>Active</th>\n",
       "      <th>Performance</th>\n",
       "      <th>Basepayin1000</th>\n",
       "      <th>BasePay+BonusPercentage</th>\n",
       "      <th>Birthmonth</th>\n",
       "    </tr>\n",
       "  </thead>\n",
       "  <tbody>\n",
       "    <tr>\n",
       "      <th>16</th>\n",
       "      <td>Female</td>\n",
       "      <td>23</td>\n",
       "      <td>2000-12-26</td>\n",
       "      <td>PhD</td>\n",
       "      <td>Administration</td>\n",
       "      <td>S</td>\n",
       "      <td>88.422</td>\n",
       "      <td>1</td>\n",
       "      <td>0.03</td>\n",
       "      <td>True</td>\n",
       "      <td>Outstanding</td>\n",
       "      <td>88422</td>\n",
       "      <td>91074.66</td>\n",
       "      <td>12</td>\n",
       "    </tr>\n",
       "    <tr>\n",
       "      <th>18</th>\n",
       "      <td>Male</td>\n",
       "      <td>21</td>\n",
       "      <td>2002-05-05</td>\n",
       "      <td>High School</td>\n",
       "      <td>Engineering</td>\n",
       "      <td>M</td>\n",
       "      <td>90.386</td>\n",
       "      <td>1</td>\n",
       "      <td>0.04</td>\n",
       "      <td>FASLE</td>\n",
       "      <td>Satisfactory</td>\n",
       "      <td>90386</td>\n",
       "      <td>94001.44</td>\n",
       "      <td>5</td>\n",
       "    </tr>\n",
       "  </tbody>\n",
       "</table>\n",
       "</div>"
      ],
      "text/plain": [
       "    Gender  Age  Birthdate    Education            Dept MaritalStatus  \\\n",
       "16  Female   23 2000-12-26          PhD  Administration             S   \n",
       "18    Male   21 2002-05-05  High School     Engineering             M   \n",
       "\n",
       "    BasePay (1000's)  Executive  Bonus Percentage Active   Performance  \\\n",
       "16            88.422          1              0.03   True   Outstanding   \n",
       "18            90.386          1              0.04  FASLE  Satisfactory   \n",
       "\n",
       "    Basepayin1000  BasePay+BonusPercentage  Birthmonth  \n",
       "16          88422                 91074.66          12  \n",
       "18          90386                 94001.44           5  "
      ]
     },
     "execution_count": 15,
     "metadata": {},
     "output_type": "execute_result"
    }
   ],
   "source": [
    "data.sample(2)"
   ]
  },
  {
   "cell_type": "code",
   "execution_count": 16,
   "id": "9a480c06-7efd-4011-b6a4-6eec98046b4d",
   "metadata": {},
   "outputs": [
    {
     "data": {
      "text/plain": [
       "Gender                     0\n",
       "Age                        0\n",
       "Birthdate                  0\n",
       "Education                  0\n",
       "Dept                       0\n",
       "MaritalStatus              0\n",
       "BasePay (1000's)           0\n",
       "Executive                  0\n",
       "Bonus Percentage           0\n",
       "Active                     0\n",
       "Performance                0\n",
       "Basepayin1000              0\n",
       "BasePay+BonusPercentage    0\n",
       "Birthmonth                 0\n",
       "dtype: int64"
      ]
     },
     "execution_count": 16,
     "metadata": {},
     "output_type": "execute_result"
    }
   ],
   "source": [
    "data.isna().sum()"
   ]
  },
  {
   "cell_type": "code",
   "execution_count": 17,
   "id": "499cf0d9-7856-413d-ae24-86570e7f0a2a",
   "metadata": {},
   "outputs": [
    {
     "data": {
      "text/plain": [
       "Gender                             object\n",
       "Age                                 int64\n",
       "Birthdate                  datetime64[ns]\n",
       "Education                          object\n",
       "Dept                               object\n",
       "MaritalStatus                      object\n",
       "BasePay (1000's)                  float64\n",
       "Executive                           int64\n",
       "Bonus Percentage                  float64\n",
       "Active                             object\n",
       "Performance                        object\n",
       "Basepayin1000                       int64\n",
       "BasePay+BonusPercentage           float64\n",
       "Birthmonth                          int32\n",
       "dtype: object"
      ]
     },
     "execution_count": 17,
     "metadata": {},
     "output_type": "execute_result"
    }
   ],
   "source": [
    "data.dtypes"
   ]
  },
  {
   "cell_type": "code",
   "execution_count": 18,
   "id": "e2c0c1dc-2825-4b58-b19b-757f00ac08c3",
   "metadata": {},
   "outputs": [
    {
     "data": {
      "text/plain": [
       "Gender\n",
       "Female    13\n",
       "Male       6\n",
       "Name: count, dtype: int64"
      ]
     },
     "execution_count": 18,
     "metadata": {},
     "output_type": "execute_result"
    }
   ],
   "source": [
    "data.Gender.value_counts()"
   ]
  },
  {
   "cell_type": "code",
   "execution_count": 19,
   "id": "6d5c0b68-cb42-4207-96e7-41351ef39675",
   "metadata": {},
   "outputs": [
    {
     "data": {
      "text/plain": [
       "<Axes: xlabel='Gender'>"
      ]
     },
     "execution_count": 19,
     "metadata": {},
     "output_type": "execute_result"
    },
    {
     "data": {
      "image/png": "[encoded data removed]",
      "text/plain": [
       "<Figure size 640x480 with 1 Axes>"
      ]
     },
     "metadata": {},
     "output_type": "display_data"
    }
   ],
   "source": [
    "data.Gender.value_counts().plot(kind='bar')"
   ]
  },
  {
   "cell_type": "code",
   "execution_count": 20,
   "id": "f3bbedc9-4b9a-4e58-a456-cd23e581d8b7",
   "metadata": {},
   "outputs": [
    {
     "data": {
      "text/plain": [
       "<Axes: xlabel='Gender'>"
      ]
     },
     "execution_count": 20,
     "metadata": {},
     "output_type": "execute_result"
    },
    {
     "data": {
      "image/png": "[encoded data removed]",
      "text/plain": [
       "<Figure size 640x480 with 1 Axes>"
      ]
     },
     "metadata": {},
     "output_type": "display_data"
    }
   ],
   "source": [
    "data.Gender.value_counts().plot(kind='line')"
   ]
  },
  {
   "cell_type": "code",
   "execution_count": 21,
   "id": "5bf45dc4-8642-4c62-ae4b-9bc7c85cba9b",
   "metadata": {},
   "outputs": [
    {
     "data": {
      "text/plain": [
       "Text(0, 0.5, 'Gender')"
      ]
     },
     "execution_count": 21,
     "metadata": {},
     "output_type": "execute_result"
    },
    {
     "data": {
      "image/png": "[encoded data removed]",
      "text/plain": [
       "<Figure size 640x480 with 1 Axes>"
      ]
     },
     "metadata": {},
     "output_type": "display_data"
    }
   ],
   "source": [
    "data.Gender.value_counts().plot(kind ='barh')\n",
    "plt.title('Gender Distribution')\n",
    "plt.xlabel('Counts')\n",
    "plt.ylabel('Gender')"
   ]
  },
  {
   "cell_type": "code",
   "execution_count": 22,
   "id": "243054c5-7a33-4bd5-a8b6-9bc56b87e931",
   "metadata": {},
   "outputs": [
    {
     "data": {
      "text/plain": [
       "Text(0, 0.5, 'Gender')"
      ]
     },
     "execution_count": 22,
     "metadata": {},
     "output_type": "execute_result"
    },
    {
     "data": {
      "image/png": "[encoded data removed]",
      "text/plain": [
       "<Figure size 640x480 with 1 Axes>"
      ]
     },
     "metadata": {},
     "output_type": "display_data"
    }
   ],
   "source": [
    "data.Gender.value_counts().plot(kind ='barh',color='Blue')\n",
    "plt.title('Gender Distribution')\n",
    "plt.xlabel('Counts')\n",
    "plt.ylabel('Gender')"
   ]
  },
  {
   "cell_type": "code",
   "execution_count": 23,
   "id": "c92c08ee-bf39-482f-b86e-d53d316917e1",
   "metadata": {},
   "outputs": [
    {
     "data": {
      "text/plain": [
       "Text(0, 0.5, 'Gender')"
      ]
     },
     "execution_count": 23,
     "metadata": {},
     "output_type": "execute_result"
    },
    {
     "data": {
      "image/png": "[encoded data removed]",
      "text/plain": [
       "<Figure size 640x480 with 1 Axes>"
      ]
     },
     "metadata": {},
     "output_type": "display_data"
    }
   ],
   "source": [
    "data.Gender.value_counts().plot(kind ='barh',color=['Blue','red'])\n",
    "plt.title('Gender Distribution')\n",
    "plt.xlabel('Counts')\n",
    "plt.ylabel('Gender')"
   ]
  },
  {
   "cell_type": "code",
   "execution_count": 24,
   "id": "acf8a037-43fb-4763-b9d7-6db0595caa20",
   "metadata": {},
   "outputs": [
    {
     "data": {
      "text/plain": [
       "<Axes: ylabel='count'>"
      ]
     },
     "execution_count": 24,
     "metadata": {},
     "output_type": "execute_result"
    },
    {
     "data": {
      "image/png": "[encoded data removed]",
      "text/plain": [
       "<Figure size 640x480 with 1 Axes>"
      ]
     },
     "metadata": {},
     "output_type": "display_data"
    }
   ],
   "source": [
    "data.Gender.value_counts().plot(kind ='pie')"
   ]
  },
  {
   "cell_type": "code",
   "execution_count": 25,
   "id": "5f2c097b-cae6-449f-a723-cf29ed07438c",
   "metadata": {},
   "outputs": [
    {
     "data": {
      "text/plain": [
       "Text(0, 0.5, 'Gender')"
      ]
     },
     "execution_count": 25,
     "metadata": {},
     "output_type": "execute_result"
    },
    {
     "data": {
      "image/png": "[encoded data removed]",
      "text/plain": [
       "<Figure size 640x480 with 1 Axes>"
      ]
     },
     "metadata": {},
     "output_type": "display_data"
    }
   ],
   "source": [
    "data.Gender.value_counts().plot(kind ='pie')\n",
    "plt.title('Gender Distribution')\n",
    "plt.xlabel('Counts')\n",
    "plt.ylabel('Gender')"
   ]
  },
  {
   "cell_type": "code",
   "execution_count": 26,
   "id": "bb151b70-fb10-4d8b-8420-b3a7e712ea39",
   "metadata": {},
   "outputs": [
    {
     "data": {
      "text/plain": [
       "<Axes: xlabel='Gender', ylabel='count'>"
      ]
     },
     "execution_count": 26,
     "metadata": {},
     "output_type": "execute_result"
    },
    {
     "data": {
      "image/png": "[encoded data removed]",
      "text/plain": [
       "<Figure size 640x480 with 1 Axes>"
      ]
     },
     "metadata": {},
     "output_type": "display_data"
    }
   ],
   "source": [
    "sns.countplot (x='Gender', data=data)"
   ]
  },
  {
   "cell_type": "code",
   "execution_count": 27,
   "id": "f8561396-55ad-4e24-a3c3-488f68b74fd7",
   "metadata": {},
   "outputs": [
    {
     "data": {
      "text/plain": [
       "Text(0, 0.5, 'Counts')"
      ]
     },
     "execution_count": 27,
     "metadata": {},
     "output_type": "execute_result"
    },
    {
     "data": {
      "image/png": "[encoded data removed]",
      "text/plain": [
       "<Figure size 640x480 with 1 Axes>"
      ]
     },
     "metadata": {},
     "output_type": "display_data"
    }
   ],
   "source": [
    "sns.countplot (x='Gender', data=data)\n",
    "plt.title('Gender Distribution')\n",
    "plt.xlabel('Gender')\n",
    "plt.ylabel('Counts')"
   ]
  },
  {
   "cell_type": "code",
   "execution_count": 28,
   "id": "dbffd39e-c8fb-43de-a692-f61c00350a04",
   "metadata": {},
   "outputs": [
    {
     "data": {
      "text/plain": [
       "MaritalStatus\n",
       "S    13\n",
       "M     6\n",
       "Name: count, dtype: int64"
      ]
     },
     "execution_count": 28,
     "metadata": {},
     "output_type": "execute_result"
    }
   ],
   "source": [
    "data.MaritalStatus.value_counts()"
   ]
  },
  {
   "cell_type": "code",
   "execution_count": 31,
   "id": "7fae95f6-a563-4074-b121-6aab6b09d73e",
   "metadata": {},
   "outputs": [],
   "source": [
    "data.MaritalStatus=data.MaritalStatus.replace('M', 'Married')     \n",
    "data.MaritalStatus=data.MaritalStatus.replace('S', 'Single') "
   ]
  },
  {
   "cell_type": "code",
   "execution_count": 32,
   "id": "c0ff0e92-8110-4486-a0c6-26d8986a5944",
   "metadata": {},
   "outputs": [
    {
     "data": {
      "text/html": [
       "<div>\n",
       "<style scoped>\n",
       "    .dataframe tbody tr th:only-of-type {\n",
       "        vertical-align: middle;\n",
       "    }\n",
       "\n",
       "    .dataframe tbody tr th {\n",
       "        vertical-align: top;\n",
       "    }\n",
       "\n",
       "    .dataframe thead th {\n",
       "        text-align: right;\n",
       "    }\n",
       "</style>\n",
       "<table border=\"1\" class=\"dataframe\">\n",
       "  <thead>\n",
       "    <tr style=\"text-align: right;\">\n",
       "      <th></th>\n",
       "      <th>Gender</th>\n",
       "      <th>Age</th>\n",
       "      <th>Birthdate</th>\n",
       "      <th>Education</th>\n",
       "      <th>Dept</th>\n",
       "      <th>MaritalStatus</th>\n",
       "      <th>BasePay (1000's)</th>\n",
       "      <th>Executive</th>\n",
       "      <th>Bonus Percentage</th>\n",
       "      <th>Active</th>\n",
       "      <th>Performance</th>\n",
       "      <th>Basepayin1000</th>\n",
       "      <th>BasePay+BonusPercentage</th>\n",
       "      <th>Birthmonth</th>\n",
       "    </tr>\n",
       "  </thead>\n",
       "  <tbody>\n",
       "    <tr>\n",
       "      <th>0</th>\n",
       "      <td>Female</td>\n",
       "      <td>1</td>\n",
       "      <td>2004-08-08</td>\n",
       "      <td>College</td>\n",
       "      <td>Operations</td>\n",
       "      <td>Married</td>\n",
       "      <td>42.363</td>\n",
       "      <td>0</td>\n",
       "      <td>0.10</td>\n",
       "      <td>True</td>\n",
       "      <td>Satisfactory</td>\n",
       "      <td>42363</td>\n",
       "      <td>46599.30</td>\n",
       "      <td>8</td>\n",
       "    </tr>\n",
       "    <tr>\n",
       "      <th>1</th>\n",
       "      <td>Male</td>\n",
       "      <td>21</td>\n",
       "      <td>2002-02-17</td>\n",
       "      <td>College</td>\n",
       "      <td>Management</td>\n",
       "      <td>Married</td>\n",
       "      <td>108.476</td>\n",
       "      <td>1</td>\n",
       "      <td>0.02</td>\n",
       "      <td>True</td>\n",
       "      <td>Poor</td>\n",
       "      <td>108476</td>\n",
       "      <td>110645.52</td>\n",
       "      <td>2</td>\n",
       "    </tr>\n",
       "  </tbody>\n",
       "</table>\n",
       "</div>"
      ],
      "text/plain": [
       "   Gender  Age  Birthdate Education        Dept MaritalStatus  \\\n",
       "0  Female    1 2004-08-08   College  Operations       Married   \n",
       "1    Male   21 2002-02-17   College  Management       Married   \n",
       "\n",
       "   BasePay (1000's)  Executive  Bonus Percentage Active   Performance  \\\n",
       "0            42.363          0              0.10   True  Satisfactory   \n",
       "1           108.476          1              0.02   True          Poor   \n",
       "\n",
       "   Basepayin1000  BasePay+BonusPercentage  Birthmonth  \n",
       "0          42363                 46599.30           8  \n",
       "1         108476                110645.52           2  "
      ]
     },
     "execution_count": 32,
     "metadata": {},
     "output_type": "execute_result"
    }
   ],
   "source": [
    "data.head(2)"
   ]
  },
  {
   "cell_type": "code",
   "execution_count": 35,
   "id": "2afb8c45-93d0-4b90-aff3-08e1f2f405eb",
   "metadata": {},
   "outputs": [
    {
     "data": {
      "text/plain": [
       "<Axes: xlabel='MaritalStatus', ylabel='count'>"
      ]
     },
     "execution_count": 35,
     "metadata": {},
     "output_type": "execute_result"
    },
    {
     "data": {
      "image/png": "[encoded data removed]",
      "text/plain": [
       "<Figure size 640x480 with 1 Axes>"
      ]
     },
     "metadata": {},
     "output_type": "display_data"
    }
   ],
   "source": [
    "sns.countplot (x='MaritalStatus', data=data)"
   ]
  },
  {
   "cell_type": "code",
   "execution_count": 38,
   "id": "b503269a-ec77-4a5c-8512-7b3070fe7d38",
   "metadata": {},
   "outputs": [
    {
     "data": {
      "text/plain": [
       "Text(0.5, 1.0, 'MaritalStatus Distribution')"
      ]
     },
     "execution_count": 38,
     "metadata": {},
     "output_type": "execute_result"
    },
    {
     "data": {
      "image/png": "[encoded data removed]",
      "text/plain": [
       "<Figure size 640x480 with 1 Axes>"
      ]
     },
     "metadata": {},
     "output_type": "display_data"
    }
   ],
   "source": [
    "data.MaritalStatus.value_counts().plot(kind ='pie')\n",
    "plt.title('MaritalStatus Distribution')"
   ]
  },
  {
   "cell_type": "code",
   "execution_count": 42,
   "id": "02f0d3fa-c689-4053-93c7-1fd1f4df5695",
   "metadata": {},
   "outputs": [
    {
     "data": {
      "text/html": [
       "<div>\n",
       "<style scoped>\n",
       "    .dataframe tbody tr th:only-of-type {\n",
       "        vertical-align: middle;\n",
       "    }\n",
       "\n",
       "    .dataframe tbody tr th {\n",
       "        vertical-align: top;\n",
       "    }\n",
       "\n",
       "    .dataframe thead th {\n",
       "        text-align: right;\n",
       "    }\n",
       "</style>\n",
       "<table border=\"1\" class=\"dataframe\">\n",
       "  <thead>\n",
       "    <tr style=\"text-align: right;\">\n",
       "      <th></th>\n",
       "      <th>MaritalStatus</th>\n",
       "      <th>Gender</th>\n",
       "      <th>0</th>\n",
       "    </tr>\n",
       "  </thead>\n",
       "  <tbody>\n",
       "    <tr>\n",
       "      <th>0</th>\n",
       "      <td>Married</td>\n",
       "      <td>Female</td>\n",
       "      <td>3</td>\n",
       "    </tr>\n",
       "    <tr>\n",
       "      <th>1</th>\n",
       "      <td>Married</td>\n",
       "      <td>Male</td>\n",
       "      <td>3</td>\n",
       "    </tr>\n",
       "    <tr>\n",
       "      <th>2</th>\n",
       "      <td>Single</td>\n",
       "      <td>Female</td>\n",
       "      <td>10</td>\n",
       "    </tr>\n",
       "    <tr>\n",
       "      <th>3</th>\n",
       "      <td>Single</td>\n",
       "      <td>Male</td>\n",
       "      <td>3</td>\n",
       "    </tr>\n",
       "  </tbody>\n",
       "</table>\n",
       "</div>"
      ],
      "text/plain": [
       "  MaritalStatus  Gender   0\n",
       "0       Married  Female   3\n",
       "1       Married    Male   3\n",
       "2        Single  Female  10\n",
       "3        Single    Male   3"
      ]
     },
     "execution_count": 42,
     "metadata": {},
     "output_type": "execute_result"
    }
   ],
   "source": [
    "data.groupby(['MaritalStatus', 'Gender']).size().reset_index()"
   ]
  },
  {
   "cell_type": "code",
   "execution_count": 43,
   "id": "f955551b-e233-4c90-a6d3-e0e9d08d4649",
   "metadata": {},
   "outputs": [
    {
     "data": {
      "text/plain": [
       "pandas.core.frame.DataFrame"
      ]
     },
     "execution_count": 43,
     "metadata": {},
     "output_type": "execute_result"
    }
   ],
   "source": [
    "type(data.groupby(['MaritalStatus', 'Gender']).size().reset_index())"
   ]
  },
  {
   "cell_type": "code",
   "execution_count": 45,
   "id": "8430549d-acd2-4adb-afb1-86cb91e258d1",
   "metadata": {},
   "outputs": [
    {
     "data": {
      "text/plain": [
       "Text(0.5, 1.0, 'MaritalStatus Distribution')"
      ]
     },
     "execution_count": 45,
     "metadata": {},
     "output_type": "execute_result"
    },
    {
     "data": {
      "image/png": "[encoded data removed]",
      "text/plain": [
       "<Figure size 640x480 with 1 Axes>"
      ]
     },
     "metadata": {},
     "output_type": "display_data"
    }
   ],
   "source": [
    "sns.countplot (x='MaritalStatus', data=data)\n",
    "plt.title('MaritalStatus Distribution')\n"
   ]
  },
  {
   "cell_type": "code",
   "execution_count": 44,
   "id": "0792d60b-de66-4997-bf4b-ea541b54be39",
   "metadata": {},
   "outputs": [
    {
     "data": {
      "text/plain": [
       "<Axes: xlabel='Gender', ylabel='count'>"
      ]
     },
     "execution_count": 44,
     "metadata": {},
     "output_type": "execute_result"
    },
    {
     "data": {
      "image/png": "[encoded data removed]",
      "text/plain": [
       "<Figure size 640x480 with 1 Axes>"
      ]
     },
     "metadata": {},
     "output_type": "display_data"
    }
   ],
   "source": [
    "sns.countplot (x='Gender',hue='MaritalStatus', data=data)"
   ]
  },
  {
   "cell_type": "code",
   "execution_count": 46,
   "id": "f5f2831c-1b8b-4375-b5e5-517252a4154b",
   "metadata": {},
   "outputs": [
    {
     "data": {
      "text/plain": [
       "Text(0, 0.5, 'Counts')"
      ]
     },
     "execution_count": 46,
     "metadata": {},
     "output_type": "execute_result"
    },
    {
     "data": {
      "image/png": "[encoded data removed]",
      "text/plain": [
       "<Figure size 640x480 with 1 Axes>"
      ]
     },
     "metadata": {},
     "output_type": "display_data"
    }
   ],
   "source": [
    "sns.countplot (x='Gender',hue='MaritalStatus', data=data)\n",
    "plt.title('Gender/MaritalStatus Distribution')\n",
    "plt.xlabel('Gender')\n",
    "plt.ylabel('Counts')"
   ]
  },
  {
   "cell_type": "code",
   "execution_count": 48,
   "id": "bcf45d06-edfb-4d88-a62f-a18016d5b900",
   "metadata": {},
   "outputs": [
    {
     "data": {
      "text/plain": [
       "8"
      ]
     },
     "execution_count": 48,
     "metadata": {},
     "output_type": "execute_result"
    }
   ],
   "source": [
    "data.Basepayin1000.idxmax()"
   ]
  },
  {
   "cell_type": "code",
   "execution_count": 49,
   "id": "914f474c-5514-46a7-8dea-37ba601267f5",
   "metadata": {},
   "outputs": [
    {
     "data": {
      "text/plain": [
       "112976"
      ]
     },
     "execution_count": 49,
     "metadata": {},
     "output_type": "execute_result"
    }
   ],
   "source": [
    "data.Basepayin1000.max()"
   ]
  },
  {
   "cell_type": "code",
   "execution_count": 50,
   "id": "fb61b4f2-9cf5-45c5-8cc5-e3902834facf",
   "metadata": {},
   "outputs": [
    {
     "data": {
      "text/plain": [
       "Gender                                  Female\n",
       "Age                                         33\n",
       "Birthdate                  1990-07-01 00:00:00\n",
       "Education                          High School\n",
       "Dept                               Engineering\n",
       "MaritalStatus                          Married\n",
       "BasePay (1000's)                       112.976\n",
       "Executive                                    1\n",
       "Bonus Percentage                          0.07\n",
       "Active                                    True\n",
       "Performance                        Outstanding\n",
       "Basepayin1000                           112976\n",
       "BasePay+BonusPercentage              120884.32\n",
       "Birthmonth                                   7\n",
       "Name: 8, dtype: object"
      ]
     },
     "execution_count": 50,
     "metadata": {},
     "output_type": "execute_result"
    }
   ],
   "source": [
    "data.iloc[data.Basepayin1000.idxmax(),:]"
   ]
  },
  {
   "cell_type": "code",
   "execution_count": 52,
   "id": "5ae7f5b3-12ce-4d46-93f1-dde06b3855cd",
   "metadata": {},
   "outputs": [
    {
     "data": {
      "text/html": [
       "<div>\n",
       "<style scoped>\n",
       "    .dataframe tbody tr th:only-of-type {\n",
       "        vertical-align: middle;\n",
       "    }\n",
       "\n",
       "    .dataframe tbody tr th {\n",
       "        vertical-align: top;\n",
       "    }\n",
       "\n",
       "    .dataframe thead th {\n",
       "        text-align: right;\n",
       "    }\n",
       "</style>\n",
       "<table border=\"1\" class=\"dataframe\">\n",
       "  <thead>\n",
       "    <tr style=\"text-align: right;\">\n",
       "      <th></th>\n",
       "      <th>Gender</th>\n",
       "      <th>Age</th>\n",
       "      <th>Birthdate</th>\n",
       "      <th>Education</th>\n",
       "      <th>Dept</th>\n",
       "      <th>MaritalStatus</th>\n",
       "      <th>BasePay (1000's)</th>\n",
       "      <th>Executive</th>\n",
       "      <th>Bonus Percentage</th>\n",
       "      <th>Active</th>\n",
       "      <th>Performance</th>\n",
       "      <th>Basepayin1000</th>\n",
       "      <th>BasePay+BonusPercentage</th>\n",
       "      <th>Birthmonth</th>\n",
       "    </tr>\n",
       "  </thead>\n",
       "  <tbody>\n",
       "    <tr>\n",
       "      <th>8</th>\n",
       "      <td>Female</td>\n",
       "      <td>33</td>\n",
       "      <td>1990-07-01</td>\n",
       "      <td>High School</td>\n",
       "      <td>Engineering</td>\n",
       "      <td>Married</td>\n",
       "      <td>112.976</td>\n",
       "      <td>1</td>\n",
       "      <td>0.07</td>\n",
       "      <td>True</td>\n",
       "      <td>Outstanding</td>\n",
       "      <td>112976</td>\n",
       "      <td>120884.32</td>\n",
       "      <td>7</td>\n",
       "    </tr>\n",
       "  </tbody>\n",
       "</table>\n",
       "</div>"
      ],
      "text/plain": [
       "   Gender  Age  Birthdate    Education         Dept MaritalStatus  \\\n",
       "8  Female   33 1990-07-01  High School  Engineering       Married   \n",
       "\n",
       "   BasePay (1000's)  Executive  Bonus Percentage Active  Performance  \\\n",
       "8           112.976          1              0.07   True  Outstanding   \n",
       "\n",
       "   Basepayin1000  BasePay+BonusPercentage  Birthmonth  \n",
       "8         112976                120884.32           7  "
      ]
     },
     "execution_count": 52,
     "metadata": {},
     "output_type": "execute_result"
    }
   ],
   "source": [
    "data[data.Basepayin1000==data.Basepayin1000.max()]"
   ]
  },
  {
   "cell_type": "code",
   "execution_count": 53,
   "id": "34333c1f-3736-4e82-9ee3-74c720b2ccf6",
   "metadata": {},
   "outputs": [
    {
     "data": {
      "text/plain": [
       "array(['College', 'PhD', 'Masters', 'High School'], dtype=object)"
      ]
     },
     "execution_count": 53,
     "metadata": {},
     "output_type": "execute_result"
    }
   ],
   "source": [
    "data.Education.unique()"
   ]
  },
  {
   "cell_type": "code",
   "execution_count": 54,
   "id": "ad7a9a1b-fc3c-4105-a2ff-558cfe9a682a",
   "metadata": {},
   "outputs": [
    {
     "data": {
      "text/plain": [
       "4"
      ]
     },
     "execution_count": 54,
     "metadata": {},
     "output_type": "execute_result"
    }
   ],
   "source": [
    "data.Education.nunique()"
   ]
  },
  {
   "cell_type": "code",
   "execution_count": 55,
   "id": "4460a0f8-7e0b-4727-978a-40821e2ef228",
   "metadata": {},
   "outputs": [
    {
     "data": {
      "text/plain": [
       "Education\n",
       "College        7\n",
       "PhD            7\n",
       "Masters        3\n",
       "High School    2\n",
       "Name: count, dtype: int64"
      ]
     },
     "execution_count": 55,
     "metadata": {},
     "output_type": "execute_result"
    }
   ],
   "source": [
    "data.Education.value_counts()"
   ]
  },
  {
   "cell_type": "code",
   "execution_count": 56,
   "id": "86acc763-e864-414f-8b99-7197df725bba",
   "metadata": {},
   "outputs": [
    {
     "data": {
      "text/plain": [
       "Education\n",
       "High School    2\n",
       "Masters        3\n",
       "College        7\n",
       "PhD            7\n",
       "Name: count, dtype: int64"
      ]
     },
     "execution_count": 56,
     "metadata": {},
     "output_type": "execute_result"
    }
   ],
   "source": [
    "data.Education.value_counts().sort_values()"
   ]
  },
  {
   "cell_type": "code",
   "execution_count": 58,
   "id": "7bb344de-8220-4b1d-9faa-9957dc626a6c",
   "metadata": {},
   "outputs": [
    {
     "data": {
      "text/plain": [
       "Education\n",
       "College        7\n",
       "PhD            7\n",
       "Masters        3\n",
       "High School    2\n",
       "Name: count, dtype: int64"
      ]
     },
     "execution_count": 58,
     "metadata": {},
     "output_type": "execute_result"
    }
   ],
   "source": [
    "data.Education.value_counts().sort_values(ascending=False)"
   ]
  },
  {
   "cell_type": "code",
   "execution_count": 59,
   "id": "5697c5d9-0976-4fc6-bbe3-b73e485374f1",
   "metadata": {},
   "outputs": [
    {
     "data": {
      "text/plain": [
       "<Axes: ylabel='Education'>"
      ]
     },
     "execution_count": 59,
     "metadata": {},
     "output_type": "execute_result"
    },
    {
     "data": {
      "image/png": "[encoded data removed]",
      "text/plain": [
       "<Figure size 640x480 with 1 Axes>"
      ]
     },
     "metadata": {},
     "output_type": "display_data"
    }
   ],
   "source": [
    "data.Education.value_counts().sort_values(ascending=False).plot(kind ='barh')"
   ]
  },
  {
   "cell_type": "code",
   "execution_count": 60,
   "id": "35050e84-cbc3-4a25-bc89-83873b1bad06",
   "metadata": {},
   "outputs": [
    {
     "data": {
      "text/plain": [
       "<Axes: xlabel='count', ylabel='Education'>"
      ]
     },
     "execution_count": 60,
     "metadata": {},
     "output_type": "execute_result"
    },
    {
     "data": {
      "image/png": "[encoded data removed]",
      "text/plain": [
       "<Figure size 640x480 with 1 Axes>"
      ]
     },
     "metadata": {},
     "output_type": "display_data"
    }
   ],
   "source": [
    "sns.countplot (y='Education', data=data)"
   ]
  },
  {
   "cell_type": "code",
   "execution_count": 61,
   "id": "a0b04099-07cb-467c-9c3f-977ef47df7ac",
   "metadata": {
    "scrolled": true
   },
   "outputs": [
    {
     "data": {
      "text/plain": [
       "<Axes: xlabel='Education', ylabel='count'>"
      ]
     },
     "execution_count": 61,
     "metadata": {},
     "output_type": "execute_result"
    },
    {
     "data": {
      "image/png": "[encoded data removed]",
      "text/plain": [
       "<Figure size 640x480 with 1 Axes>"
      ]
     },
     "metadata": {},
     "output_type": "display_data"
    }
   ],
   "source": [
    "sns.countplot (x='Education', data=data)"
   ]
  },
  {
   "cell_type": "code",
   "execution_count": null,
   "id": "a90721b6-6bb9-46ae-bce0-30669d752250",
   "metadata": {},
   "outputs": [],
   "source": []
  }
 ],
 "metadata": {
  "kernelspec": {
   "display_name": "Python 3 (ipykernel)",
   "language": "python",
   "name": "python3"
  },
  "language_info": {
   "codemirror_mode": {
    "name": "ipython",
    "version": 3
   },
   "file_extension": ".py",
   "mimetype": "text/x-python",
   "name": "python",
   "nbconvert_exporter": "python",
   "pygments_lexer": "ipython3",
   "version": "3.11.7"
  }
 },
 "nbformat": 4,
 "nbformat_minor": 5
}
